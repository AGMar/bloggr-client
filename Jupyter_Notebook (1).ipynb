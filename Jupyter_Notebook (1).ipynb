{
 "cells": [
  {
   "cell_type": "markdown",
   "metadata": {},
   "source": [
    "<center>\n",
    "    <img src=\"https://cf-courses-data.s3.us.cloud-object-storage.appdomain.cloud/IBMDeveloperSkillsNetwork-DS0105EN-SkillsNetwork/labs/Module2/images/SN_web_lightmode.png\" width=\"300\" alt=\"cognitiveclass.ai logo\">\n",
    "</center>\n"
   ]
  },
  {
   "cell_type": "markdown",
   "metadata": {},
   "source": [
    "#### Add your code below following the instructions given in the course\n"
   ]
  },
  {
   "cell_type": "markdown",
   "metadata": {},
   "source": [
    "# Título del Cuadreno\n",
    "Cuaderno Práctico sobre fundamentos de la ciencia de datos"
   ]
  },
  {
   "cell_type": "markdown",
   "metadata": {},
   "source": [
    "# Introducción\n",
    "Este cuaderno está diseñado para puntualizar los fundamentos de la ciencia de datos."
   ]
  },
  {
   "cell_type": "markdown",
   "metadata": {},
   "source": [
    "### Lenguajes de la Ciencia de Datos\n",
    "- Python\n",
    "- R\n",
    "- -Julia\n",
    "- SQL"
   ]
  },
  {
   "cell_type": "markdown",
   "metadata": {},
   "source": [
    "### Bibliotecas de la Ciencia de Datos\n",
    "- Numy\n",
    "- Pandas\n",
    "- Scikit-learn\n",
    "- Matplotlib"
   ]
  },
  {
   "cell_type": "markdown",
   "metadata": {},
   "source": [
    "### Herramientas de la Cinecia de Datos\n",
    "|   Herramienta      |   Descripción                                |\n",
    "|--------------------|----------------------------------------------|\n",
    "|   Jupiter Notebook |   Entorno de cuaderno interactivo            |\n",
    "|   Google Colab     |   Plataforma de cuaderno en la nube          |\n"
   ]
  },
  {
   "cell_type": "markdown",
   "metadata": {},
   "source": [
    "### Ejemplos de Expresiones Aritméticas\n",
    "- Suma: '3 + 2 = 5'\n",
    "- Multiplicación: '4* 2 = 8'"
   ]
  },
  {
   "cell_type": "code",
   "execution_count": null,
   "metadata": {},
   "outputs": [],
   "source": [
    "# Multiplicación y Suma\n",
    "resultado_multiplicacion = 5 * 3\n",
    "resultado_suma = 10 + 2\n",
    "print(\"Multiplicacion: \", resultado_multiplicacion)\n",
    "print(\"Suma: \", resultado_suma)"
   ]
  },
  {
   "cell_type": "code",
   "execution_count": null,
   "metadata": {},
   "outputs": [],
   "source": [
    "#Convertir minutos en horas\n",
    "minutos = 120\n",
    "horas = minutos / 60\n",
    "print(\"Horas: \", horas)\n"
   ]
  },
  {
   "cell_type": "markdown",
   "metadata": {},
   "source": [
    "### Objetivos del cuaderno\n",
    "1. Resumir las bases de la ciencia de datos.\n",
    "2. Enumerar los lenguajes más utilizados"
   ]
  },
  {
   "cell_type": "markdown",
   "metadata": {},
   "source": [
    "** Autor: ** Aymar García"
   ]
  }
 ],
 "metadata": {
  "kernelspec": {
   "display_name": "Python 3 (ipykernel)",
   "language": "python",
   "name": "python3"
  },
  "language_info": {
   "codemirror_mode": {
    "name": "ipython",
    "version": 3
   },
   "file_extension": ".py",
   "mimetype": "text/x-python",
   "name": "python",
   "nbconvert_exporter": "python",
   "pygments_lexer": "ipython3",
   "version": "3.11.9"
  }
 },
 "nbformat": 4,
 "nbformat_minor": 4
}
